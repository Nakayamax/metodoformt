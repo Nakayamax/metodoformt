{
 "cells": [
  {
   "cell_type": "markdown",
   "id": "72fb894a-b498-46f0-9a6f-7bd5e6ffa96c",
   "metadata": {},
   "source": [
    "#Forma que fizemos na última aula (concatenando textos)"
   ]
  },
  {
   "cell_type": "code",
   "execution_count": 11,
   "id": "4f430850-96a2-474e-88b2-b983d3cb0fb1",
   "metadata": {},
   "outputs": [
    {
     "name": "stdout",
     "output_type": "stream",
     "text": [
      "o faturamento da loja foi 2000.o custo da loja foi500.Assim, o lucro da loja foi de 1500\n"
     ]
    }
   ],
   "source": [
    "faturamento = 2000\n",
    "custo = 500\n",
    "lucro = faturamento - custo\n",
    "print('o faturamento da loja foi ' + str(faturamento) + '.o custo da loja foi' + str(custo) + '.Assim, o lucro da loja foi de ' + str(lucro))\n"
   ]
  },
  {
   "cell_type": "markdown",
   "id": "cfd57a64-0b36-43eb-8487-caf48728d577",
   "metadata": {},
   "source": [
    "Método format"
   ]
  },
  {
   "cell_type": "code",
   "execution_count": 13,
   "id": "beb05fca-336f-4d5c-9cf7-a145a18ab38c",
   "metadata": {},
   "outputs": [
    {
     "name": "stdout",
     "output_type": "stream",
     "text": [
      "o faturamento da loja foi 2000\n"
     ]
    }
   ],
   "source": [
    "faturamento = 2000\n",
    "custo = 500\n",
    "lucro = faturamento - custo\n",
    "print('o faturamento da loja foi {}'.format(faturamento))"
   ]
  },
  {
   "cell_type": "code",
   "execution_count": 15,
   "id": "d0949438-f417-4638-8661-0d568fc081ea",
   "metadata": {},
   "outputs": [
    {
     "name": "stdout",
     "output_type": "stream",
     "text": [
      "o faturamento da loja foi 2000. O custo da loja foi 500. Assim, o lucro da loja foi 1500\n"
     ]
    }
   ],
   "source": [
    "faturamento = 2000\n",
    "custo = 500\n",
    "lucro = faturamento - custo\n",
    "print('o faturamento da loja foi {}. O custo da loja foi {}. Assim, o lucro da loja foi {}'.format(faturamento, custo, lucro))"
   ]
  },
  {
   "cell_type": "markdown",
   "id": "fa498930-f69f-4fe1-8c57-d42aa258c5b8",
   "metadata": {},
   "source": [
    "\"Através do método `FORMAT`, não preciso converter minhas variáveis em strings individualmente. Além disso, posso definir o texto completo de uma vez e, em seguida, inserir as variáveis, o que torna o processo mais organizado.\""
   ]
  }
 ],
 "metadata": {
  "kernelspec": {
   "display_name": "Python 3 (ipykernel)",
   "language": "python",
   "name": "python3"
  },
  "language_info": {
   "codemirror_mode": {
    "name": "ipython",
    "version": 3
   },
   "file_extension": ".py",
   "mimetype": "text/x-python",
   "name": "python",
   "nbconvert_exporter": "python",
   "pygments_lexer": "ipython3",
   "version": "3.12.4"
  }
 },
 "nbformat": 4,
 "nbformat_minor": 5
}
